{
 "cells": [
  {
   "cell_type": "markdown",
   "metadata": {},
   "source": [
    "## 全排列问题"
   ]
  },
  {
   "cell_type": "code",
   "execution_count": null,
   "metadata": {},
   "outputs": [],
   "source": [
    "def permutation(elements):\n",
    "    if len(elements) == 0:\n",
    "        return [[]]\n",
    "    else:\n",
    "        head = elements[0]\n",
    "        remain_parts_result = permutation(elements[1:])\n",
    "        return [r[:i] + [head] for i in range(len(elements)) for r in remain_parts_result]"
   ]
  },
  {
   "cell_type": "markdown",
   "metadata": {},
   "source": [
    "## 归并排序"
   ]
  },
  {
   "cell_type": "code",
   "execution_count": 1,
   "metadata": {},
   "outputs": [],
   "source": [
    "def merge_sort(elements):\n",
    "    if len(elements)==1:return elements\n",
    "    mid = len(elements)//2\n",
    "    left,right = merge_sort(elements[:mid]),merge_sort(elements[mid:])\n",
    "    sorted_result = []\n",
    "    left_index,right = 0,0\n",
    "    while left and right:\n",
    "        left_head = left[0]\n",
    "        right_head = right[0]\n",
    "        if left_head<right_head:\n",
    "            sorted_result.append(left_head)\n",
    "            left.pop(0)\n",
    "        else:\n",
    "            sorted_result.append(right_head)\n",
    "            right.pop(0)\n",
    "    sorted_result+=(left or right)\n",
    "    return sorted_result"
   ]
  },
  {
   "cell_type": "markdown",
   "metadata": {},
   "source": [
    "## 快速排序"
   ]
  },
  {
   "cell_type": "code",
   "execution_count": 2,
   "metadata": {},
   "outputs": [],
   "source": [
    "def quick_sort(elements):\n",
    "    if not elements:return []\n",
    "    pivot = random.choice(elements)\n",
    "    return quick_sort([e for e in elements if e<pivot]+[pivot]+ quick_sort([e for e in elements if e>pivot]))"
   ]
  },
  {
   "cell_type": "code",
   "execution_count": 8,
   "metadata": {},
   "outputs": [],
   "source": [
    "def filter_pattern(elements):\n",
    "    if not elements:return []\n",
    "    for i in range(len(elements)//2,0,-1):\n",
    "        elements_remain = elements[i:]\n",
    "        if elements[:i] == elements_remain[:i]:\n",
    "            return filter_pattern(elements_remain)\n",
    "    return [elements[0]]+filter_pattern(elements[1:])"
   ]
  },
  {
   "cell_type": "code",
   "execution_count": 9,
   "metadata": {},
   "outputs": [
    {
     "data": {
      "text/plain": [
       "'我再也不来这家店了'"
      ]
     },
     "execution_count": 9,
     "metadata": {},
     "output_type": "execute_result"
    }
   ],
   "source": [
    "''.join(filter_pattern('我再也再也再也不来这家店了'))"
   ]
  },
  {
   "cell_type": "markdown",
   "metadata": {},
   "source": [
    "## 编辑距离"
   ]
  },
  {
   "cell_type": "code",
   "execution_count": 10,
   "metadata": {},
   "outputs": [],
   "source": [
    "from functools import lru_cache"
   ]
  },
  {
   "cell_type": "code",
   "execution_count": 15,
   "metadata": {},
   "outputs": [],
   "source": [
    "sulution = {}\n",
    "@lru_cache(maxsize = 2**10)\n",
    "def edit_distance(string1,string2):\n",
    "    if len(string1) == 0:return len(string2)\n",
    "    if len(string2) == 0:return len(string1)\n",
    "    candidates = []\n",
    "    if string1[-1] == string2[-1]:\n",
    "        string_1_2_decrease = (edit_distance(string1[:-1]),'continue')\n",
    "    else:\n",
    "        string_1_2_decrease = (edit_distance(string1[:-1],string2[:-1])+1,'replace:{}=>{}'.format(string1[-1],string2[-1]))\n",
    "    string_1_decrease_string_2_keep = (edit_distance(string[:-1],string2)+1 ,'del{}'.format(string1[-1]))\n",
    "    string_2_decrease_string_1_keep = (edit_distance(string1,string2[:-1])+1,'add{}'.format(string2[-1]))\n",
    "    candidates = [\n",
    "        string_1_2_decrease,\n",
    "        string_1_decrease_string_2_keep,\n",
    "        string_2_decrease_string_1_keep\n",
    "    ]\n",
    "    min_distance,operation = min(candidates,key = lambda x :x[0])\n",
    "    solution[(string1,string2)] = operation\n",
    "    return min_distance"
   ]
  },
  {
   "cell_type": "code",
   "execution_count": 16,
   "metadata": {},
   "outputs": [],
   "source": [
    "def parse_solution(string1,string2,record):\n",
    "    if len(string1) == len(string2) ==1:return [record[(string1,string2)]]\n",
    "    opreations = {\n",
    "        'replace':(-1,-1),\n",
    "        'continue':(-1,-1),\n",
    "        'del':(None,-1),\n",
    "        'add':(-1,None)\n",
    "    }\n",
    "    operation = record[(string1,string2)]\n",
    "    op = operation.split()[0]\n",
    "    s1_i,s2_i = operations[op]\n",
    "    return [operation] + parse_solution(string1[:s1_i],string2[:s2_i],record)\n",
    "    "
   ]
  },
  {
   "cell_type": "code",
   "execution_count": null,
   "metadata": {},
   "outputs": [],
   "source": []
  },
  {
   "cell_type": "code",
   "execution_count": 18,
   "metadata": {},
   "outputs": [],
   "source": [
    "nest = ((((1,2,(3,4)))),((((((((((((((((10,11)))))))))))))))),((5,6,7),(8,9,10)),((11,12)),(((((13,14,15))))),((16,17,18,19)),\n",
    "        ((20,21)),(22,23)\n",
    ")"
   ]
  },
  {
   "cell_type": "code",
   "execution_count": 20,
   "metadata": {},
   "outputs": [],
   "source": [
    "def flatten(elements):\n",
    "    if not elements:return []\n",
    "    if not isinstance(elements,tuple): return [elements]\n",
    "    else :\n",
    "        return flatten(elements[0]) + flatten(elements[1:])"
   ]
  },
  {
   "cell_type": "code",
   "execution_count": 21,
   "metadata": {},
   "outputs": [
    {
     "data": {
      "text/plain": [
       "[1,\n",
       " 2,\n",
       " 3,\n",
       " 4,\n",
       " 10,\n",
       " 11,\n",
       " 5,\n",
       " 6,\n",
       " 7,\n",
       " 8,\n",
       " 9,\n",
       " 10,\n",
       " 11,\n",
       " 12,\n",
       " 13,\n",
       " 14,\n",
       " 15,\n",
       " 16,\n",
       " 17,\n",
       " 18,\n",
       " 19,\n",
       " 20,\n",
       " 21,\n",
       " 22,\n",
       " 23]"
      ]
     },
     "execution_count": 21,
     "metadata": {},
     "output_type": "execute_result"
    }
   ],
   "source": [
    "flatten(nest)"
   ]
  },
  {
   "cell_type": "code",
   "execution_count": null,
   "metadata": {},
   "outputs": [],
   "source": []
  }
 ],
 "metadata": {
  "kernelspec": {
   "display_name": "Python 3",
   "language": "python",
   "name": "python3"
  },
  "language_info": {
   "codemirror_mode": {
    "name": "ipython",
    "version": 3
   },
   "file_extension": ".py",
   "mimetype": "text/x-python",
   "name": "python",
   "nbconvert_exporter": "python",
   "pygments_lexer": "ipython3",
   "version": "3.7.4"
  }
 },
 "nbformat": 4,
 "nbformat_minor": 4
}
