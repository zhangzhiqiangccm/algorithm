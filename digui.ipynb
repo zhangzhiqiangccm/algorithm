{
 "cells": [
  {
   "cell_type": "markdown",
   "metadata": {},
   "source": [
    "## 全排列问题"
   ]
  },
  {
   "cell_type": "code",
   "execution_count": null,
   "metadata": {},
   "outputs": [],
   "source": [
    "def permutation(elements):\n",
    "    if len(elements) == 0:\n",
    "        return [[]]\n",
    "    else:\n",
    "        head = elements[0]\n",
    "        remain_parts_result = permutation(elements[1:])\n",
    "        return [r[:i] + [head] for i in range(len(elements)) for r in remain_parts_result]"
   ]
  },
  {
   "cell_type": "markdown",
   "metadata": {},
   "source": [
    "## 归并排序"
   ]
  },
  {
   "cell_type": "code",
   "execution_count": 1,
   "metadata": {},
   "outputs": [],
   "source": [
    "def merge_sort(elements):\n",
    "    if len(elements)==1:return elements\n",
    "    mid = len(elements)//2\n",
    "    left,right = merge_sort(elements[:mid]),merge_sort(elements[mid:])\n",
    "    sorted_result = []\n",
    "    left_index,right = 0,0\n",
    "    while left and right:\n",
    "        left_head = left[0]\n",
    "        right_head = right[0]\n",
    "        if left_head<right_head:\n",
    "            sorted_result.append(left_head)\n",
    "            left.pop(0)\n",
    "        else:\n",
    "            sorted_result.append(right_head)\n",
    "            right.pop(0)\n",
    "    sorted_result+=(left or right)\n",
    "    return sorted_result"
   ]
  },
  {
   "cell_type": "markdown",
   "metadata": {},
   "source": [
    "## 快速排序"
   ]
  },
  {
   "cell_type": "code",
   "execution_count": 2,
   "metadata": {},
   "outputs": [],
   "source": [
    "def quick_sort(elements):\n",
    "    if not elements:return []\n",
    "    pivot = random.choice(elements)\n",
    "    return quick_sort([e for e in elements if e<pivot]+[pivot]+ quick_sort([e for e in elements if e>pivot]))"
   ]
  },
  {
   "cell_type": "code",
   "execution_count": null,
   "metadata": {},
   "outputs": [],
   "source": []
  }
 ],
 "metadata": {
  "kernelspec": {
   "display_name": "Python 3",
   "language": "python",
   "name": "python3"
  },
  "language_info": {
   "codemirror_mode": {
    "name": "ipython",
    "version": 3
   },
   "file_extension": ".py",
   "mimetype": "text/x-python",
   "name": "python",
   "nbconvert_exporter": "python",
   "pygments_lexer": "ipython3",
   "version": "3.7.4"
  }
 },
 "nbformat": 4,
 "nbformat_minor": 4
}
